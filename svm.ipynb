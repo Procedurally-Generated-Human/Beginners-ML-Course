{
 "cells": [
  {
   "cell_type": "code",
   "execution_count": 1,
   "metadata": {},
   "outputs": [],
   "source": [
    "import pandas as pd\n",
    "import matplotlib.pyplot as plt"
   ]
  },
  {
   "cell_type": "code",
   "execution_count": null,
   "metadata": {},
   "outputs": [],
   "source": [
    "from sklearn import datasets\n",
    "\n",
    "iris_data = datasets.load_iris(as_frame=True)\n",
    "print(f\"target names:\\t{iris_data.target_names}\")\n",
    "print(f\"feature names:\\t{iris_data.feature_names}\")"
   ]
  },
  {
   "cell_type": "code",
   "execution_count": null,
   "metadata": {},
   "outputs": [],
   "source": [
    "X = iris_data.data\n",
    "X = X.drop([iris_data.feature_names[1], iris_data.feature_names[3]], axis=1)\n",
    "y = iris_data.target\n",
    "\n",
    "print(f\"X: {X.shape}\\n{X.head()}\")\n",
    "print(f\"y: {y.shape}\\n{y.head()}\")"
   ]
  },
  {
   "cell_type": "code",
   "execution_count": null,
   "metadata": {},
   "outputs": [],
   "source": [
    "display(X.describe())"
   ]
  },
  {
   "cell_type": "code",
   "execution_count": null,
   "metadata": {},
   "outputs": [],
   "source": [
    "display(y.describe())"
   ]
  },
  {
   "cell_type": "code",
   "execution_count": null,
   "metadata": {},
   "outputs": [],
   "source": [
    "_, ax = plt.subplots()\n",
    "scatter = ax.scatter(X[iris_data.feature_names[0]], X[iris_data.feature_names[2]], edgecolors=\"k\", cmap=plt.cm.coolwarm, c=y)\n",
    "ax.set(xlabel=iris_data.feature_names[0], ylabel=iris_data.feature_names[2])\n",
    "_ = ax.legend(scatter.legend_elements()[0], iris_data.target_names, loc=\"lower right\", title=\"Classes\")"
   ]
  },
  {
   "cell_type": "code",
   "execution_count": 35,
   "metadata": {},
   "outputs": [],
   "source": [
    "from sklearn.model_selection import train_test_split\n",
    "X_train, X_test, y_train, y_test = train_test_split(X, y, random_state=0, test_size=0.3)"
   ]
  },
  {
   "cell_type": "code",
   "execution_count": 36,
   "metadata": {},
   "outputs": [],
   "source": [
    "from sklearn import svm\n",
    "\n",
    "clf = svm.SVC()\n",
    "clf.fit(X, y);"
   ]
  },
  {
   "cell_type": "code",
   "execution_count": 37,
   "metadata": {},
   "outputs": [
    {
     "name": "stdout",
     "output_type": "stream",
     "text": [
      "Accuracy: 95.56%\n"
     ]
    }
   ],
   "source": [
    "from sklearn import metrics\n",
    "\n",
    "prediction = clf.predict(X_test)\n",
    "\n",
    "accuracy = metrics.accuracy_score(y_true=y_test, y_pred=prediction)\n",
    "accuracy *= 100\n",
    "print(f\"Accuracy: {accuracy:.2f}%\")"
   ]
  },
  {
   "cell_type": "code",
   "execution_count": 38,
   "metadata": {},
   "outputs": [],
   "source": [
    "titles = (\n",
    "    \"SVC with linear kernel\",\n",
    "    \"SVC with RBF kernel\",\n",
    "    \"SVC with polynomial (degree 3) kernel\",\n",
    "    \"SVC with polynomial (degree 5) kernel\",\n",
    ")\n",
    "\n",
    "models = (\n",
    "    svm.SVC(kernel=\"linear\"),\n",
    "    svm.SVC(kernel=\"rbf\", gamma=0.7),\n",
    "    svm.SVC(kernel=\"poly\", degree=3, gamma=\"auto\"),\n",
    "    svm.SVC(kernel=\"poly\", degree=5, gamma=\"auto\"),\n",
    ")\n",
    "\n",
    "models = (clf.fit(X_train, y_train) for clf in models)"
   ]
  },
  {
   "cell_type": "code",
   "execution_count": null,
   "metadata": {},
   "outputs": [],
   "source": [
    "from sklearn.inspection import DecisionBoundaryDisplay\n",
    "\n",
    "X0, X1 = X_test[iris_data.feature_names[0]], X_test[iris_data.feature_names[2]]\n",
    "\n",
    "for clf, title in zip(models, titles):\n",
    "    fig, ax = plt.subplots()\n",
    "    disp = DecisionBoundaryDisplay.from_estimator(\n",
    "        clf,\n",
    "        X_test,\n",
    "        response_method=\"predict\",\n",
    "        cmap=plt.cm.coolwarm,\n",
    "        alpha=0.8,\n",
    "        ax=ax,\n",
    "        xlabel=iris_data.feature_names[0],\n",
    "        ylabel=iris_data.feature_names[2],\n",
    "    )\n",
    "    ax.scatter(X0, X1, c=y_test, edgecolors=\"k\", cmap=plt.cm.coolwarm)\n",
    "    ax.legend(scatter.legend_elements()[0], iris_data.target_names, loc=\"lower right\", title=\"Classes\")\n",
    "    ax.set_title(title)\n",
    "\n",
    "    plt.show()\n",
    "\n",
    "    prediction = clf.predict(X_test)\n",
    "    accuracy = metrics.accuracy_score(y_true=y_test, y_pred=prediction)\n",
    "    accuracy *= 100\n",
    "    print(f\"{title} accuracy: {accuracy:.2f}%\")"
   ]
  }
 ],
 "metadata": {
  "kernelspec": {
   "display_name": "Python 3",
   "language": "python",
   "name": "python3"
  },
  "language_info": {
   "codemirror_mode": {
    "name": "ipython",
    "version": 3
   },
   "file_extension": ".py",
   "mimetype": "text/x-python",
   "name": "python",
   "nbconvert_exporter": "python",
   "pygments_lexer": "ipython3",
   "version": "3.11.5"
  }
 },
 "nbformat": 4,
 "nbformat_minor": 2
}
